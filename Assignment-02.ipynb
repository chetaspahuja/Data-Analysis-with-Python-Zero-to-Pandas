{
 "cells": [
  {
   "cell_type": "markdown",
   "id": "a821a650",
   "metadata": {},
   "source": [
    "# Assignment-02\n",
    "\n",
    "\n",
    "### Numpy Array Operations\n",
    "\n",
    "Write a short introduction about Numpy and list the chosen functions. \n",
    "\n",
    "- count_nonzero()\n",
    "- append()\n",
    "- insert()\n",
    "- isnan()\n",
    "- random.rand()\n",
    "\n",
    "The recommended way to run this notebook is to click the \"Run\" button at the top of this page, and select \"Run on Binder\". This will run the notebook on mybinder.org, a free online service for running Jupyter notebooks."
   ]
  },
  {
   "cell_type": "code",
   "execution_count": 1,
   "id": "4ee062b3",
   "metadata": {},
   "outputs": [
    {
     "data": {
      "application/javascript": [
       "if (window.IPython && IPython.notebook.kernel) IPython.notebook.kernel.execute('jovian.utils.jupyter.get_notebook_name_saved = lambda: \"' + IPython.notebook.notebook_name + '\"')"
      ],
      "text/plain": [
       "<IPython.core.display.Javascript object>"
      ]
     },
     "metadata": {},
     "output_type": "display_data"
    }
   ],
   "source": [
    "!pip install jovian --quiet\n",
    "import numpy as np\n",
    "import jovian"
   ]
  },
  {
   "cell_type": "markdown",
   "id": "1f641082",
   "metadata": {},
   "source": [
    "## Function 1 : \n",
    "count_nonzero() : It returns the number of non Zero elements in an multidimensional array.\n"
   ]
  },
  {
   "cell_type": "code",
   "execution_count": 2,
   "id": "fedeba32",
   "metadata": {},
   "outputs": [
    {
     "data": {
      "text/plain": [
       "6"
      ]
     },
     "execution_count": 2,
     "metadata": {},
     "output_type": "execute_result"
    }
   ],
   "source": [
    "arr = [[0, 1, 2, 0, 4], [5, 0, 6, 0, 7]]\n",
    "np.count_nonzero(arr)"
   ]
  },
  {
   "cell_type": "code",
   "execution_count": 3,
   "id": "59babb27",
   "metadata": {},
   "outputs": [
    {
     "data": {
      "text/plain": [
       "8"
      ]
     },
     "execution_count": 3,
     "metadata": {},
     "output_type": "execute_result"
    }
   ],
   "source": [
    "arr = np.array([[[1,2,3],[0,0,7]],\n",
    "        [[15,12,0],[90,0,1]]])\n",
    "np.count_nonzero(arr)"
   ]
  },
  {
   "cell_type": "code",
   "execution_count": 4,
   "id": "647ca461",
   "metadata": {},
   "outputs": [
    {
     "data": {
      "text/plain": [
       "11"
      ]
     },
     "execution_count": 4,
     "metadata": {},
     "output_type": "execute_result"
    }
   ],
   "source": [
    "arr = np.array([[[1,2,3,0,2],[7,8,0,9,7]],\n",
    "        [[15,12,0,0,0],[90,0,0,0,0]]])\n",
    "np.count_nonzero(arr)"
   ]
  },
  {
   "cell_type": "markdown",
   "id": "0f50dd9a",
   "metadata": {},
   "source": [
    "## Function 2 :\n",
    "append(): It adds the passed object in a given list"
   ]
  },
  {
   "cell_type": "code",
   "execution_count": 5,
   "id": "72b466bc",
   "metadata": {},
   "outputs": [
    {
     "data": {
      "text/plain": [
       "[1, 2, 3, 4, 5, 6, 7]"
      ]
     },
     "execution_count": 5,
     "metadata": {},
     "output_type": "execute_result"
    }
   ],
   "source": [
    "my_list = [1,2,3,4,5,6]\n",
    "my_list.append(7)\n",
    "my_list"
   ]
  },
  {
   "cell_type": "code",
   "execution_count": 6,
   "id": "b82b8c83",
   "metadata": {},
   "outputs": [
    {
     "data": {
      "text/plain": [
       "[1000]"
      ]
     },
     "execution_count": 6,
     "metadata": {},
     "output_type": "execute_result"
    }
   ],
   "source": [
    "my_list = []\n",
    "my_list.append(1000)\n",
    "my_list"
   ]
  },
  {
   "cell_type": "code",
   "execution_count": 7,
   "id": "cd34adf8",
   "metadata": {},
   "outputs": [
    {
     "data": {
      "text/plain": [
       "[1, 2, 3, 2.15]"
      ]
     },
     "execution_count": 7,
     "metadata": {},
     "output_type": "execute_result"
    }
   ],
   "source": [
    "my_list = [1,2,3] \n",
    "my_list.append(2.15)\n",
    "my_list"
   ]
  },
  {
   "cell_type": "markdown",
   "id": "c7662140",
   "metadata": {},
   "source": [
    "## Function 3 :\n",
    "insert(): This adds an element at a given index in a list "
   ]
  },
  {
   "cell_type": "code",
   "execution_count": 8,
   "id": "4c6128d8",
   "metadata": {},
   "outputs": [
    {
     "data": {
      "text/plain": [
       "[1, 2, 3, 2.15]"
      ]
     },
     "execution_count": 8,
     "metadata": {},
     "output_type": "execute_result"
    }
   ],
   "source": [
    "my_list"
   ]
  },
  {
   "cell_type": "code",
   "execution_count": 9,
   "id": "cd368923",
   "metadata": {},
   "outputs": [
    {
     "data": {
      "text/plain": [
       "[1, 2, 3, 8, 2.15]"
      ]
     },
     "execution_count": 9,
     "metadata": {},
     "output_type": "execute_result"
    }
   ],
   "source": [
    "my_list.insert(3,8)\n",
    "my_list"
   ]
  },
  {
   "cell_type": "code",
   "execution_count": 10,
   "id": "17b4c96d",
   "metadata": {},
   "outputs": [
    {
     "data": {
      "text/plain": [
       "[0, 1, 2, 3, 8, 2.15]"
      ]
     },
     "execution_count": 10,
     "metadata": {},
     "output_type": "execute_result"
    }
   ],
   "source": [
    "my_list.insert(0,0)\n",
    "my_list"
   ]
  },
  {
   "cell_type": "markdown",
   "id": "b1ecef2e",
   "metadata": {},
   "source": [
    "## Function 4:\n",
    "isnan() : It tests element-wise whether it is NaN or not and returns the result as a boolean array."
   ]
  },
  {
   "cell_type": "code",
   "execution_count": 11,
   "id": "432f9c06",
   "metadata": {},
   "outputs": [
    {
     "data": {
      "text/plain": [
       "False"
      ]
     },
     "execution_count": 11,
     "metadata": {},
     "output_type": "execute_result"
    }
   ],
   "source": [
    "np.isnan(1)"
   ]
  },
  {
   "cell_type": "code",
   "execution_count": 12,
   "id": "00d254a2",
   "metadata": {},
   "outputs": [
    {
     "data": {
      "text/plain": [
       "True"
      ]
     },
     "execution_count": 12,
     "metadata": {},
     "output_type": "execute_result"
    }
   ],
   "source": [
    "np.isnan(np.nan)"
   ]
  },
  {
   "cell_type": "code",
   "execution_count": 13,
   "id": "7e15a1df",
   "metadata": {},
   "outputs": [
    {
     "data": {
      "text/plain": [
       "False"
      ]
     },
     "execution_count": 13,
     "metadata": {},
     "output_type": "execute_result"
    }
   ],
   "source": [
    "np.isnan(True)"
   ]
  },
  {
   "cell_type": "markdown",
   "id": "545dbd6c",
   "metadata": {},
   "source": [
    "## Function 5:\n",
    "random.rand() : It is used to generate random numbers or values in a given shape."
   ]
  },
  {
   "cell_type": "code",
   "execution_count": 14,
   "id": "2104c8ac",
   "metadata": {},
   "outputs": [
    {
     "data": {
      "text/plain": [
       "array([[0.81303946, 0.8962516 , 0.34291268],\n",
       "       [0.78807982, 0.16733007, 0.10889876],\n",
       "       [0.89693795, 0.64008785, 0.80675515],\n",
       "       [0.52027733, 0.25450571, 0.2306142 ],\n",
       "       [0.04771521, 0.88757905, 0.86967952],\n",
       "       [0.44064603, 0.97665149, 0.61842945]])"
      ]
     },
     "execution_count": 14,
     "metadata": {},
     "output_type": "execute_result"
    }
   ],
   "source": [
    "np.random.rand(6,3)"
   ]
  },
  {
   "cell_type": "code",
   "execution_count": 15,
   "id": "6eec04ca",
   "metadata": {
    "scrolled": true
   },
   "outputs": [
    {
     "data": {
      "text/plain": [
       "array([[0.13368972, 0.83021271, 0.49846935, 0.18122921, 0.3910002 ],\n",
       "       [0.91747541, 0.36766315, 0.79264951, 0.55224582, 0.8332612 ],\n",
       "       [0.70128564, 0.93699635, 0.67785955, 0.21561761, 0.38574232],\n",
       "       [0.10243263, 0.733998  , 0.78872856, 0.64348943, 0.68058029],\n",
       "       [0.79636464, 0.20255449, 0.59822965, 0.80217424, 0.94209021],\n",
       "       [0.01479866, 0.23058005, 0.58235367, 0.18722359, 0.91363024],\n",
       "       [0.87193444, 0.71763868, 0.26684616, 0.03950304, 0.04878723]])"
      ]
     },
     "execution_count": 15,
     "metadata": {},
     "output_type": "execute_result"
    }
   ],
   "source": [
    "np.random.rand(7,5)"
   ]
  },
  {
   "cell_type": "code",
   "execution_count": 16,
   "id": "0c80acb6",
   "metadata": {},
   "outputs": [
    {
     "data": {
      "text/plain": [
       "array([[0.193829  , 0.32179543]])"
      ]
     },
     "execution_count": 16,
     "metadata": {},
     "output_type": "execute_result"
    }
   ],
   "source": [
    "np.random.rand(1,2)"
   ]
  },
  {
   "cell_type": "code",
   "execution_count": 17,
   "id": "6fb139c2",
   "metadata": {},
   "outputs": [
    {
     "data": {
      "application/javascript": [
       "window.require && require([\"base/js/namespace\"],function(Jupyter){Jupyter.notebook.save_checkpoint()})"
      ],
      "text/plain": [
       "<IPython.core.display.Javascript object>"
      ]
     },
     "metadata": {},
     "output_type": "display_data"
    },
    {
     "name": "stdout",
     "output_type": "stream",
     "text": [
      "[jovian] Please enter your API key ( from https://jovian.ai/ ):\u001b[0m\n",
      "API KEY: ········\n",
      "[jovian] Creating a new project \"cpahuja0123/numPy-Assignment-02\"\u001b[0m\n",
      "[jovian] Committed successfully! https://jovian.ai/cpahuja0123/numpy-assignment-02\u001b[0m\n"
     ]
    },
    {
     "data": {
      "text/plain": [
       "'https://jovian.ai/cpahuja0123/numpy-assignment-02'"
      ]
     },
     "execution_count": 17,
     "metadata": {},
     "output_type": "execute_result"
    }
   ],
   "source": [
    "jovian.commit(project='numPy-Assignment-02', evironment=None)"
   ]
  }
 ],
 "metadata": {
  "kernelspec": {
   "display_name": "Python 3",
   "language": "python",
   "name": "python3"
  },
  "language_info": {
   "codemirror_mode": {
    "name": "ipython",
    "version": 3
   },
   "file_extension": ".py",
   "mimetype": "text/x-python",
   "name": "python",
   "nbconvert_exporter": "python",
   "pygments_lexer": "ipython3",
   "version": "3.6.13"
  }
 },
 "nbformat": 4,
 "nbformat_minor": 5
}
